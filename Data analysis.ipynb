{
 "cells": [
  {
   "cell_type": "markdown",
   "metadata": {},
   "source": [
    "# Data analysis for project EIDI approach LSTM+CRF"
   ]
  },
  {
   "cell_type": "markdown",
   "metadata": {},
   "source": [
    "### import python script for getting train data and dev data\n",
    "<b>save_train_file</b> is to get certain number of training data. The original training data is stored in three files, among the three files, <b>'give_cat-ingredients'</b> has very small number of examples. So the script each time will take certain number of examples from the other two files and take all examples in <b>'give_cat-ingredients'</b>\n",
    "\n",
    "\n",
    "<b>save_dev_file</b> is to get all dev data.  <b>save_dev_file_newP_newV</b>, <b>save_dev_file_newP_oldV</b>, <b>save_dev_file_oldP_newV</b> is to get dev data which is formatted specially as the name indicate. <b>save_dev_file_little</b> is to get dev data <b>'give_cat-ingredients'</b>, because the number of examples of this kind, is little. \n"
   ]
  },
  {
   "cell_type": "code",
   "execution_count": 1,
   "metadata": {},
   "outputs": [],
   "source": [
    "from get_trn import save_train_file\n",
    "from get_dev import save_dev_file, save_dev_file_newP_newV, save_dev_file_newP_oldV, save_dev_file_oldP_newV, save_dev_file_little\n",
    "from get_test import save_test_file, save_test_file_newP_newV, save_test_file_newP_oldV, save_test_file_oldP_newV, save_test_file_little"
   ]
  },
  {
   "cell_type": "markdown",
   "metadata": {},
   "source": [
    "To explain how we use <b> trn </b> and <b> dev </b> and <b> test </b>. We basically use <b> trn </b> to train our model and in each epoch calculate a score for <b>dev</b>. And finally choose the weights of the epoch which have the higgest score and test on <b>test</b> set. "
   ]
  },
  {
   "cell_type": "markdown",
   "metadata": {},
   "source": [
    "## 1. train the model with small number of examples (100 examples per file except 'give_cat-ingredients')"
   ]
  },
  {
   "cell_type": "markdown",
   "metadata": {},
   "source": [
    "### 1.1 dev on all dev data\n",
    "In this part we train a model and evaluate the model on the whole dev set"
   ]
  },
  {
   "cell_type": "code",
   "execution_count": 2,
   "metadata": {},
   "outputs": [],
   "source": [
    "number_per_file_trn = 100"
   ]
  },
  {
   "cell_type": "code",
   "execution_count": 3,
   "metadata": {},
   "outputs": [
    {
     "name": "stdout",
     "output_type": "stream",
     "text": [
      "Total Number of examples in train_file: 278\n",
      "Number of enamples of type 'ask_for_recipe': 100\n",
      "Number of enamples of type 'give_cat-ingredients': 78\n",
      "Number of enamples of type 'give_ingredients': 100\n",
      "saved to 'data/train.iob'\n"
     ]
    }
   ],
   "source": [
    "save_train_file(number_per_file_trn)"
   ]
  },
  {
   "cell_type": "code",
   "execution_count": 4,
   "metadata": {},
   "outputs": [
    {
     "name": "stdout",
     "output_type": "stream",
     "text": [
      "Total Number of examples in dev_file: 1857\n",
      "Number of enamples of type 'ask_for_recipe_newP_newV': 302\n",
      "Number of enamples of type 'ask_for_recipe_newP_oldV': 302\n",
      "Number of enamples of type 'ask_for_recipe_oldP_newV': 302\n",
      "Number of enamples of type 'give_cat-ingredients_newP_newV': 6\n",
      "Number of enamples of type 'give_cat-ingredients_newP_oldV': 21\n",
      "Number of enamples of type 'give_cat-ingredients_oldP_newV': 18\n",
      "Number of enamples of type 'give_ingredients_newP_newV': 302\n",
      "Number of enamples of type 'give_ingredients_newP_oldV': 302\n",
      "Number of enamples of type 'give_ingredients_oldP_newV': 302\n",
      "saved to 'data/dev.iob'\n",
      "Total Number of examples in test_file: 2169\n",
      "Number of enamples of type 'ask_for_recipe_newP_newV': 303\n",
      "Number of enamples of type 'ask_for_recipe_newP_oldV': 302\n",
      "Number of enamples of type 'ask_for_recipe_oldP_newV': 302\n",
      "Number of enamples of type 'give_cat-ingredients_newP_newV': 32\n",
      "Number of enamples of type 'give_cat-ingredients_newP_oldV': 302\n",
      "Number of enamples of type 'give_cat-ingredients_oldP_newV': 22\n",
      "Number of enamples of type 'give_ingredients_newP_newV': 302\n",
      "Number of enamples of type 'give_ingredients_newP_oldV': 302\n",
      "Number of enamples of type 'give_ingredients_oldP_newV': 302\n",
      "saved to 'data/test.iob'\n",
      "Building vocab...\n",
      "- done. 2991 tokens\n",
      "Building vocab...\n",
      "- done. 400000 tokens\n",
      "Writing vocab...\n",
      "- done. 1545 tokens\n",
      "Writing vocab...\n",
      "- done. 12 tokens\n",
      "Writing vocab...\n",
      "- done. 36 tokens\n",
      "/Users/moyang/anaconda3/envs/mars-craters/lib/python3.5/site-packages/tensorflow/python/ops/gradients_impl.py:96: UserWarning: Converting sparse IndexedSlices to a dense Tensor of unknown shape. This may consume a large amount of memory.\n",
      "  \"Converting sparse IndexedSlices to a dense Tensor of unknown shape. \"\n",
      "Initializing tf session\n",
      "2018-02-07 01:51:35.508762: I tensorflow/core/platform/cpu_feature_guard.cc:137] Your CPU supports instructions that this TensorFlow binary was not compiled to use: SSE4.1 SSE4.2 AVX AVX2 FMA\n",
      "Epoch 1 out of 15\n",
      "14/14 [==============================] - 4s - train loss: 7.2125     \n",
      "acc 59.86 - f1 4.69\n",
      "- new best score!\n",
      "Epoch 2 out of 15\n",
      "14/14 [==============================] - 3s - train loss: 3.2332     \n",
      "acc 71.50 - f1 33.13\n",
      "- new best score!\n",
      "Epoch 3 out of 15\n",
      "14/14 [==============================] - 4s - train loss: 1.9820     \n",
      "acc 71.30 - f1 34.34\n",
      "- new best score!\n",
      "Epoch 4 out of 15\n",
      "14/14 [==============================] - 3s - train loss: 1.2065     \n",
      "acc 67.03 - f1 26.40\n",
      "Epoch 5 out of 15\n",
      "14/14 [==============================] - 3s - train loss: 0.6770     \n",
      "acc 55.42 - f1 5.63\n",
      "Epoch 6 out of 15\n",
      "14/14 [==============================] - 3s - train loss: 0.4136     \n",
      "acc 53.45 - f1 3.43\n",
      "- early stopping 3 epochs without improvement\n",
      "/Users/moyang/anaconda3/envs/mars-craters/lib/python3.5/site-packages/tensorflow/python/ops/gradients_impl.py:96: UserWarning: Converting sparse IndexedSlices to a dense Tensor of unknown shape. This may consume a large amount of memory.\n",
      "  \"Converting sparse IndexedSlices to a dense Tensor of unknown shape. \"\n",
      "Initializing tf session\n",
      "2018-02-07 01:53:10.719101: I tensorflow/core/platform/cpu_feature_guard.cc:137] Your CPU supports instructions that this TensorFlow binary was not compiled to use: SSE4.1 SSE4.2 AVX AVX2 FMA\n",
      "Reloading the latest trained model...\n",
      "INFO:tensorflow:Restoring parameters from results/test/model.weights/\n",
      "Restoring parameters from results/test/model.weights/\n",
      "Testing model over test set\n",
      "f1 28.57 - acc 72.86\n"
     ]
    }
   ],
   "source": [
    "save_dev_file()\n",
    "save_test_file()\n",
    "!python build_data.py\n",
    "!python train.py\n",
    "!python evaluate.py"
   ]
  },
  {
   "cell_type": "code",
   "execution_count": null,
   "metadata": {},
   "outputs": [
    {
     "name": "stdout",
     "output_type": "stream",
     "text": [
      "Building vocab...\n",
      "- done. 2991 tokens\n",
      "Building vocab...\n",
      "- done. 400000 tokens\n",
      "Writing vocab...\n",
      "- done. 1545 tokens\n",
      "Writing vocab...\n",
      "- done. 12 tokens\n"
     ]
    }
   ],
   "source": [
    "!python build_data.py\n",
    "!python train.py\n",
    "!python evaluate.py"
   ]
  },
  {
   "cell_type": "markdown",
   "metadata": {},
   "source": [
    "### 1.2 dev on newPnewV\n",
    "in this part we evaluate the model only on newPnewV"
   ]
  },
  {
   "cell_type": "code",
   "execution_count": 11,
   "metadata": {},
   "outputs": [
    {
     "name": "stdout",
     "output_type": "stream",
     "text": [
      "Total Number of examples in train_file: 610\n",
      "Number of enamples of type 'ask_for_recipe_newP_newV': 302\n",
      "Number of enamples of type 'give_cat-ingredients_newP_newV': 6\n",
      "Number of enamples of type 'give_ingredients_newP_newV': 302\n",
      "saved to 'data/dev.iob'\n"
     ]
    }
   ],
   "source": [
    "save_dev_file_newP_newV()"
   ]
  },
  {
   "cell_type": "code",
   "execution_count": 12,
   "metadata": {},
   "outputs": [
    {
     "name": "stdout",
     "output_type": "stream",
     "text": [
      "Building vocab...\n",
      "- done. 1169 tokens\n",
      "Building vocab...\n",
      "- done. 400000 tokens\n",
      "Writing vocab...\n",
      "- done. 664 tokens\n",
      "Writing vocab...\n",
      "- done. 10 tokens\n",
      "Writing vocab...\n",
      "- done. 36 tokens\n",
      "/Users/moyang/anaconda3/envs/mars-craters/lib/python3.5/site-packages/tensorflow/python/ops/gradients_impl.py:96: UserWarning: Converting sparse IndexedSlices to a dense Tensor of unknown shape. This may consume a large amount of memory.\n",
      "  \"Converting sparse IndexedSlices to a dense Tensor of unknown shape. \"\n",
      "Initializing tf session\n",
      "2018-02-06 21:46:13.066953: I tensorflow/core/platform/cpu_feature_guard.cc:137] Your CPU supports instructions that this TensorFlow binary was not compiled to use: SSE4.1 SSE4.2 AVX AVX2 FMA\n",
      "Epoch 1 out of 15\n",
      "14/14 [==============================] - 4s - train loss: 7.3332     \n",
      "f1 3.53 - acc 66.55\n",
      "- new best score!\n",
      "Epoch 2 out of 15\n",
      "14/14 [==============================] - 4s - train loss: 3.3444     \n",
      "f1 44.36 - acc 75.62\n",
      "- new best score!\n",
      "Epoch 3 out of 15\n",
      "14/14 [==============================] - 4s - train loss: 2.0656     \n",
      "f1 49.76 - acc 78.02\n",
      "- new best score!\n",
      "Epoch 4 out of 15\n",
      "14/14 [==============================] - 3s - train loss: 1.2135     \n",
      "f1 44.86 - acc 79.99\n",
      "Epoch 5 out of 15\n",
      "14/14 [==============================] - 4s - train loss: 0.7042     \n",
      "f1 21.84 - acc 67.08\n",
      "Epoch 6 out of 15\n",
      "14/14 [==============================] - 4s - train loss: 0.4239     \n",
      "f1 15.15 - acc 58.50\n",
      "- early stopping 3 epochs without improvement\n",
      "/Users/moyang/anaconda3/envs/mars-craters/lib/python3.5/site-packages/tensorflow/python/ops/gradients_impl.py:96: UserWarning: Converting sparse IndexedSlices to a dense Tensor of unknown shape. This may consume a large amount of memory.\n",
      "  \"Converting sparse IndexedSlices to a dense Tensor of unknown shape. \"\n",
      "Initializing tf session\n",
      "2018-02-06 21:47:18.526567: I tensorflow/core/platform/cpu_feature_guard.cc:137] Your CPU supports instructions that this TensorFlow binary was not compiled to use: SSE4.1 SSE4.2 AVX AVX2 FMA\n",
      "Reloading the latest trained model...\n",
      "INFO:tensorflow:Restoring parameters from results/test/model.weights/\n",
      "Restoring parameters from results/test/model.weights/\n",
      "Testing model over test set\n",
      "acc 78.02 - f1 49.76\n"
     ]
    }
   ],
   "source": [
    "!python build_data.py\n",
    "!python train.py\n",
    "!python evaluate.py"
   ]
  },
  {
   "cell_type": "markdown",
   "metadata": {},
   "source": [
    "### 1.3 dev on newPoldV\n",
    "in this part we evaluate the model only on newPoldV"
   ]
  },
  {
   "cell_type": "code",
   "execution_count": 13,
   "metadata": {},
   "outputs": [
    {
     "name": "stdout",
     "output_type": "stream",
     "text": [
      "Total Number of examples in train_file: 625\n",
      "Number of enamples of type 'ask_for_recipe_newP_oldV': 302\n",
      "Number of enamples of type 'give_cat-ingredients_newP_oldV': 21\n",
      "Number of enamples of type 'give_ingredients_newP_oldV': 302\n",
      "saved to 'data/dev.iob'\n"
     ]
    }
   ],
   "source": [
    "save_dev_file_newP_oldV()"
   ]
  },
  {
   "cell_type": "code",
   "execution_count": 14,
   "metadata": {},
   "outputs": [
    {
     "name": "stdout",
     "output_type": "stream",
     "text": [
      "Building vocab...\n",
      "- done. 1175 tokens\n",
      "Building vocab...\n",
      "- done. 400000 tokens\n",
      "Writing vocab...\n",
      "- done. 677 tokens\n",
      "Writing vocab...\n",
      "- done. 9 tokens\n",
      "Writing vocab...\n",
      "- done. 36 tokens\n",
      "/Users/moyang/anaconda3/envs/mars-craters/lib/python3.5/site-packages/tensorflow/python/ops/gradients_impl.py:96: UserWarning: Converting sparse IndexedSlices to a dense Tensor of unknown shape. This may consume a large amount of memory.\n",
      "  \"Converting sparse IndexedSlices to a dense Tensor of unknown shape. \"\n",
      "Initializing tf session\n",
      "2018-02-06 21:51:54.354700: I tensorflow/core/platform/cpu_feature_guard.cc:137] Your CPU supports instructions that this TensorFlow binary was not compiled to use: SSE4.1 SSE4.2 AVX AVX2 FMA\n",
      "Epoch 1 out of 15\n",
      "14/14 [==============================] - 4s - train loss: 7.2575     \n",
      "acc 64.98 - f1 1.32\n",
      "- new best score!\n",
      "Epoch 2 out of 15\n",
      "14/14 [==============================] - 4s - train loss: 3.2873     \n",
      "acc 73.24 - f1 39.64\n",
      "- new best score!\n",
      "Epoch 3 out of 15\n",
      "14/14 [==============================] - 4s - train loss: 2.0244     \n",
      "acc 75.60 - f1 39.87\n",
      "- new best score!\n",
      "Epoch 4 out of 15\n",
      "14/14 [==============================] - 3s - train loss: 1.3177     \n",
      "acc 77.19 - f1 43.24\n",
      "- new best score!\n",
      "Epoch 5 out of 15\n",
      "14/14 [==============================] - 3s - train loss: 0.8520     \n",
      "acc 67.08 - f1 14.33\n",
      "Epoch 6 out of 15\n",
      "14/14 [==============================] - 3s - train loss: 0.4975     \n",
      "acc 62.62 - f1 12.49\n",
      "Epoch 7 out of 15\n",
      "14/14 [==============================] - 3s - train loss: 0.3332     \n",
      "acc 60.93 - f1 16.69\n",
      "- early stopping 3 epochs without improvement\n",
      "/Users/moyang/anaconda3/envs/mars-craters/lib/python3.5/site-packages/tensorflow/python/ops/gradients_impl.py:96: UserWarning: Converting sparse IndexedSlices to a dense Tensor of unknown shape. This may consume a large amount of memory.\n",
      "  \"Converting sparse IndexedSlices to a dense Tensor of unknown shape. \"\n",
      "Initializing tf session\n",
      "2018-02-06 21:53:03.767919: I tensorflow/core/platform/cpu_feature_guard.cc:137] Your CPU supports instructions that this TensorFlow binary was not compiled to use: SSE4.1 SSE4.2 AVX AVX2 FMA\n",
      "Reloading the latest trained model...\n",
      "INFO:tensorflow:Restoring parameters from results/test/model.weights/\n",
      "Restoring parameters from results/test/model.weights/\n",
      "Testing model over test set\n",
      "acc 77.19 - f1 43.24\n"
     ]
    }
   ],
   "source": [
    "!python build_data.py\n",
    "!python train.py\n",
    "!python evaluate.py"
   ]
  },
  {
   "cell_type": "markdown",
   "metadata": {},
   "source": [
    "### 1.4 dev on oldPnewV\n",
    "in this part we evaluate the model only on oldPnewV"
   ]
  },
  {
   "cell_type": "code",
   "execution_count": 26,
   "metadata": {},
   "outputs": [
    {
     "name": "stdout",
     "output_type": "stream",
     "text": [
      "Total Number of examples in train_file: 622\n",
      "Number of enamples of type 'ask_for_recipe_oldP_newV': 302\n",
      "Number of enamples of type 'give_cat-ingredients_oldP_newV': 18\n",
      "Number of enamples of type 'give_ingredients_oldP_newV': 302\n",
      "saved to 'data/dev.iob'\n",
      "Building vocab...\n",
      "- done. 1136 tokens\n",
      "Building vocab...\n",
      "- done. 400000 tokens\n",
      "Writing vocab...\n",
      "- done. 645 tokens\n",
      "Writing vocab...\n",
      "- done. 11 tokens\n",
      "Writing vocab...\n",
      "- done. 36 tokens\n",
      "/Users/moyang/anaconda3/envs/mars-craters/lib/python3.5/site-packages/tensorflow/python/ops/gradients_impl.py:96: UserWarning: Converting sparse IndexedSlices to a dense Tensor of unknown shape. This may consume a large amount of memory.\n",
      "  \"Converting sparse IndexedSlices to a dense Tensor of unknown shape. \"\n",
      "Initializing tf session\n",
      "2018-02-06 22:27:46.068376: I tensorflow/core/platform/cpu_feature_guard.cc:137] Your CPU supports instructions that this TensorFlow binary was not compiled to use: SSE4.1 SSE4.2 AVX AVX2 FMA\n",
      "Epoch 1 out of 15\n",
      "14/14 [==============================] - 4s - train loss: 6.9116     \n",
      "f1 6.31 - acc 66.97\n",
      "- new best score!\n",
      "Epoch 2 out of 15\n",
      "14/14 [==============================] - 3s - train loss: 3.2088     \n",
      "f1 13.74 - acc 66.33\n",
      "- new best score!\n",
      "Epoch 3 out of 15\n",
      "14/14 [==============================] - 3s - train loss: 1.9326     \n",
      "f1 11.22 - acc 59.79\n",
      "Epoch 4 out of 15\n",
      "14/14 [==============================] - 3s - train loss: 1.1284     \n",
      "f1 9.58 - acc 59.76\n",
      "Epoch 5 out of 15\n",
      "14/14 [==============================] - 3s - train loss: 0.6766     \n",
      "f1 4.87 - acc 53.91\n",
      "- early stopping 3 epochs without improvement\n",
      "/Users/moyang/anaconda3/envs/mars-craters/lib/python3.5/site-packages/tensorflow/python/ops/gradients_impl.py:96: UserWarning: Converting sparse IndexedSlices to a dense Tensor of unknown shape. This may consume a large amount of memory.\n",
      "  \"Converting sparse IndexedSlices to a dense Tensor of unknown shape. \"\n",
      "Initializing tf session\n",
      "2018-02-06 22:28:38.376179: I tensorflow/core/platform/cpu_feature_guard.cc:137] Your CPU supports instructions that this TensorFlow binary was not compiled to use: SSE4.1 SSE4.2 AVX AVX2 FMA\n",
      "Reloading the latest trained model...\n",
      "INFO:tensorflow:Restoring parameters from results/test/model.weights/\n",
      "Restoring parameters from results/test/model.weights/\n",
      "Testing model over test set\n",
      "f1 13.74 - acc 66.33\n"
     ]
    }
   ],
   "source": [
    "save_dev_file_oldP_newV()\n",
    "!python build_data.py\n",
    "!python train.py\n",
    "!python evaluate.py"
   ]
  },
  {
   "cell_type": "markdown",
   "metadata": {},
   "source": [
    "### 1.5 dev on 'give_cat-ingredients'\n",
    "in this part we evaluate the model only on 'give_cat-ingredients' in dev"
   ]
  },
  {
   "cell_type": "code",
   "execution_count": 15,
   "metadata": {},
   "outputs": [
    {
     "name": "stdout",
     "output_type": "stream",
     "text": [
      "Total Number of examples in train_file: 45\n",
      "Number of enamples of type 'give_cat-ingredients_newP_newV': 6\n",
      "Number of enamples of type 'give_cat-ingredients_newP_oldV': 21\n",
      "Number of enamples of type 'give_cat-ingredients_oldP_newV': 18\n"
     ]
    }
   ],
   "source": [
    "save_dev_file_little()"
   ]
  },
  {
   "cell_type": "code",
   "execution_count": 16,
   "metadata": {},
   "outputs": [
    {
     "name": "stdout",
     "output_type": "stream",
     "text": [
      "Building vocab...\n",
      "- done. 426 tokens\n",
      "Building vocab...\n",
      "- done. 400000 tokens\n",
      "Writing vocab...\n",
      "- done. 273 tokens\n",
      "Writing vocab...\n",
      "- done. 9 tokens\n",
      "Writing vocab...\n",
      "- done. 36 tokens\n",
      "/Users/moyang/anaconda3/envs/mars-craters/lib/python3.5/site-packages/tensorflow/python/ops/gradients_impl.py:96: UserWarning: Converting sparse IndexedSlices to a dense Tensor of unknown shape. This may consume a large amount of memory.\n",
      "  \"Converting sparse IndexedSlices to a dense Tensor of unknown shape. \"\n",
      "Initializing tf session\n",
      "2018-02-06 21:55:15.446673: I tensorflow/core/platform/cpu_feature_guard.cc:137] Your CPU supports instructions that this TensorFlow binary was not compiled to use: SSE4.1 SSE4.2 AVX AVX2 FMA\n",
      "Epoch 1 out of 15\n",
      "14/14 [==============================] - 4s - train loss: 7.5351     \n",
      "acc 75.43 - f1 0.00\n",
      "- new best score!\n",
      "Epoch 2 out of 15\n",
      "14/14 [==============================] - 3s - train loss: 3.5039     \n",
      "acc 75.43 - f1 13.89\n",
      "- new best score!\n",
      "Epoch 3 out of 15\n",
      "14/14 [==============================] - 3s - train loss: 2.0028     \n",
      "acc 90.86 - f1 76.92\n",
      "- new best score!\n",
      "Epoch 4 out of 15\n",
      "14/14 [==============================] - 3s - train loss: 1.2118     \n",
      "acc 96.00 - f1 80.49\n",
      "- new best score!\n",
      "Epoch 5 out of 15\n",
      "14/14 [==============================] - 3s - train loss: 0.6974     \n",
      "acc 96.57 - f1 80.49\n",
      "- new best score!\n",
      "Epoch 6 out of 15\n",
      "14/14 [==============================] - 3s - train loss: 0.4481     \n",
      "acc 97.71 - f1 89.74\n",
      "- new best score!\n",
      "Epoch 7 out of 15\n",
      "14/14 [==============================] - 3s - train loss: 0.3221     \n",
      "acc 97.71 - f1 89.74\n",
      "- new best score!\n",
      "Epoch 8 out of 15\n",
      "14/14 [==============================] - 3s - train loss: 0.2334     \n",
      "acc 97.71 - f1 89.74\n",
      "- new best score!\n",
      "Epoch 9 out of 15\n",
      "14/14 [==============================] - 3s - train loss: 0.1557     \n",
      "acc 98.29 - f1 92.31\n",
      "- new best score!\n",
      "Epoch 10 out of 15\n",
      "14/14 [==============================] - 3s - train loss: 0.1548     \n",
      "acc 98.29 - f1 92.31\n",
      "- new best score!\n",
      "Epoch 11 out of 15\n",
      "14/14 [==============================] - 3s - train loss: 0.1469     \n",
      "acc 98.29 - f1 92.31\n",
      "- new best score!\n",
      "Epoch 12 out of 15\n",
      "14/14 [==============================] - 3s - train loss: 0.1266     \n",
      "acc 98.29 - f1 92.31\n",
      "- new best score!\n",
      "Epoch 13 out of 15\n",
      "14/14 [==============================] - 3s - train loss: 0.1196     \n",
      "acc 98.29 - f1 92.31\n",
      "- new best score!\n",
      "Epoch 14 out of 15\n",
      "14/14 [==============================] - 4s - train loss: 0.1068     \n",
      "acc 98.29 - f1 92.31\n",
      "- new best score!\n",
      "Epoch 15 out of 15\n",
      "14/14 [==============================] - 4s - train loss: 0.1028     \n",
      "acc 98.29 - f1 92.31\n",
      "- new best score!\n",
      "/Users/moyang/anaconda3/envs/mars-craters/lib/python3.5/site-packages/tensorflow/python/ops/gradients_impl.py:96: UserWarning: Converting sparse IndexedSlices to a dense Tensor of unknown shape. This may consume a large amount of memory.\n",
      "  \"Converting sparse IndexedSlices to a dense Tensor of unknown shape. \"\n",
      "Initializing tf session\n",
      "2018-02-06 21:56:59.850217: I tensorflow/core/platform/cpu_feature_guard.cc:137] Your CPU supports instructions that this TensorFlow binary was not compiled to use: SSE4.1 SSE4.2 AVX AVX2 FMA\n",
      "Reloading the latest trained model...\n",
      "INFO:tensorflow:Restoring parameters from results/test/model.weights/\n",
      "Restoring parameters from results/test/model.weights/\n",
      "Testing model over test set\n",
      "acc 98.29 - f1 92.31\n"
     ]
    }
   ],
   "source": [
    "!python build_data.py\n",
    "!python train.py\n",
    "!python evaluate.py"
   ]
  },
  {
   "cell_type": "markdown",
   "metadata": {},
   "source": [
    "## 2. train the model with more number of examples (1000 examples per file except 'give_cat-ingredients')"
   ]
  },
  {
   "cell_type": "code",
   "execution_count": 27,
   "metadata": {},
   "outputs": [
    {
     "name": "stdout",
     "output_type": "stream",
     "text": [
      "Total Number of examples in train_file: 1078\n",
      "Number of enamples of type 'ask_for_recipe': 500\n",
      "Number of enamples of type 'give_cat-ingredients': 78\n",
      "Number of enamples of type 'give_ingredients': 500\n",
      "saved to 'data/train.iob'\n"
     ]
    }
   ],
   "source": [
    "number_per_file_trn = 500\n",
    "save_train_file(number_per_file_trn)"
   ]
  },
  {
   "cell_type": "markdown",
   "metadata": {},
   "source": [
    "### 2.1 dev on all dev data"
   ]
  },
  {
   "cell_type": "code",
   "execution_count": 23,
   "metadata": {},
   "outputs": [
    {
     "name": "stdout",
     "output_type": "stream",
     "text": [
      "Total Number of examples in train_file: 1857\n",
      "Number of enamples of type 'ask_for_recipe_newP_newV': 302\n",
      "Number of enamples of type 'ask_for_recipe_newP_oldV': 302\n",
      "Number of enamples of type 'ask_for_recipe_oldP_newV': 302\n",
      "Number of enamples of type 'give_cat-ingredients_newP_newV': 6\n",
      "Number of enamples of type 'give_cat-ingredients_newP_oldV': 21\n",
      "Number of enamples of type 'give_cat-ingredients_oldP_newV': 18\n",
      "Number of enamples of type 'give_ingredients_newP_newV': 302\n",
      "Number of enamples of type 'give_ingredients_newP_oldV': 302\n",
      "Number of enamples of type 'give_ingredients_oldP_newV': 302\n",
      "saved to 'data/dev.iob'\n",
      "Building vocab...\n",
      "- done. 2548 tokens\n",
      "Building vocab...\n",
      "- done. 400000 tokens\n",
      "Writing vocab...\n",
      "- done. 1357 tokens\n",
      "Writing vocab...\n",
      "- done. 12 tokens\n",
      "Writing vocab...\n",
      "- done. 59 tokens\n",
      "/Users/moyang/anaconda3/envs/mars-craters/lib/python3.5/site-packages/tensorflow/python/ops/gradients_impl.py:96: UserWarning: Converting sparse IndexedSlices to a dense Tensor of unknown shape. This may consume a large amount of memory.\n",
      "  \"Converting sparse IndexedSlices to a dense Tensor of unknown shape. \"\n",
      "Initializing tf session\n",
      "2018-02-06 22:22:27.905188: I tensorflow/core/platform/cpu_feature_guard.cc:137] Your CPU supports instructions that this TensorFlow binary was not compiled to use: SSE4.1 SSE4.2 AVX AVX2 FMA\n",
      "Epoch 1 out of 15\n",
      "54/54 [==============================] - 16s - train loss: 3.5591    \n",
      "acc 62.12 - f1 23.83\n",
      "- new best score!\n",
      "Epoch 2 out of 15\n",
      "54/54 [==============================] - 15s - train loss: 0.3939    \n",
      "acc 59.72 - f1 16.70\n",
      "Epoch 3 out of 15\n",
      "54/54 [==============================] - 15s - train loss: 0.1836    \n",
      "acc 55.56 - f1 19.46\n",
      "Epoch 4 out of 15\n",
      "54/54 [==============================] - 18s - train loss: 0.1156    \n",
      "acc 49.38 - f1 12.68\n",
      "- early stopping 3 epochs without improvement\n",
      "/Users/moyang/anaconda3/envs/mars-craters/lib/python3.5/site-packages/tensorflow/python/ops/gradients_impl.py:96: UserWarning: Converting sparse IndexedSlices to a dense Tensor of unknown shape. This may consume a large amount of memory.\n",
      "  \"Converting sparse IndexedSlices to a dense Tensor of unknown shape. \"\n",
      "Initializing tf session\n",
      "2018-02-06 22:24:23.118514: I tensorflow/core/platform/cpu_feature_guard.cc:137] Your CPU supports instructions that this TensorFlow binary was not compiled to use: SSE4.1 SSE4.2 AVX AVX2 FMA\n",
      "Reloading the latest trained model...\n",
      "INFO:tensorflow:Restoring parameters from results/test/model.weights/\n",
      "Restoring parameters from results/test/model.weights/\n",
      "Testing model over test set\n",
      "f1 23.83 - acc 62.12\n"
     ]
    }
   ],
   "source": [
    "save_dev_file()\n",
    "!python build_data.py\n",
    "!python train.py\n",
    "!python evaluate.py"
   ]
  },
  {
   "cell_type": "markdown",
   "metadata": {},
   "source": [
    "### 2.2 dev on newPnewV\n",
    "in this part we evaluate the model only on newPnewV"
   ]
  },
  {
   "cell_type": "code",
   "execution_count": 28,
   "metadata": {},
   "outputs": [
    {
     "name": "stdout",
     "output_type": "stream",
     "text": [
      "Total Number of examples in train_file: 610\n",
      "Number of enamples of type 'ask_for_recipe_newP_newV': 302\n",
      "Number of enamples of type 'give_cat-ingredients_newP_newV': 6\n",
      "Number of enamples of type 'give_ingredients_newP_newV': 302\n",
      "saved to 'data/dev.iob'\n",
      "Building vocab...\n",
      "- done. 1936 tokens\n",
      "Building vocab...\n",
      "- done. 400000 tokens\n",
      "Writing vocab...\n",
      "- done. 1056 tokens\n",
      "Writing vocab...\n",
      "- done. 10 tokens\n",
      "Writing vocab...\n",
      "- done. 59 tokens\n",
      "/Users/moyang/anaconda3/envs/mars-craters/lib/python3.5/site-packages/tensorflow/python/ops/gradients_impl.py:96: UserWarning: Converting sparse IndexedSlices to a dense Tensor of unknown shape. This may consume a large amount of memory.\n",
      "  \"Converting sparse IndexedSlices to a dense Tensor of unknown shape. \"\n",
      "Initializing tf session\n",
      "2018-02-06 22:31:25.618519: I tensorflow/core/platform/cpu_feature_guard.cc:137] Your CPU supports instructions that this TensorFlow binary was not compiled to use: SSE4.1 SSE4.2 AVX AVX2 FMA\n",
      "Epoch 1 out of 15\n",
      "54/54 [==============================] - 16s - train loss: 3.0686    \n",
      "acc 73.67 - f1 52.61\n",
      "- new best score!\n",
      "Epoch 2 out of 15\n",
      "54/54 [==============================] - 16s - train loss: 0.3864    \n",
      "acc 59.25 - f1 27.94\n",
      "Epoch 3 out of 15\n",
      "54/54 [==============================] - 18s - train loss: 0.1751    \n",
      "acc 58.88 - f1 29.48\n",
      "Epoch 4 out of 15\n",
      "54/54 [==============================] - 17s - train loss: 0.0937    \n",
      "acc 57.94 - f1 25.78\n",
      "- early stopping 3 epochs without improvement\n",
      "/Users/moyang/anaconda3/envs/mars-craters/lib/python3.5/site-packages/tensorflow/python/ops/gradients_impl.py:96: UserWarning: Converting sparse IndexedSlices to a dense Tensor of unknown shape. This may consume a large amount of memory.\n",
      "  \"Converting sparse IndexedSlices to a dense Tensor of unknown shape. \"\n",
      "Initializing tf session\n",
      "2018-02-06 22:33:01.996275: I tensorflow/core/platform/cpu_feature_guard.cc:137] Your CPU supports instructions that this TensorFlow binary was not compiled to use: SSE4.1 SSE4.2 AVX AVX2 FMA\n",
      "Reloading the latest trained model...\n",
      "INFO:tensorflow:Restoring parameters from results/test/model.weights/\n",
      "Restoring parameters from results/test/model.weights/\n",
      "Testing model over test set\n",
      "f1 52.61 - acc 73.67\n"
     ]
    }
   ],
   "source": [
    "save_dev_file_newP_newV()\n",
    "!python build_data.py\n",
    "!python train.py\n",
    "!python evaluate.py"
   ]
  },
  {
   "cell_type": "markdown",
   "metadata": {},
   "source": [
    "### 2.3 dev on newPoldV"
   ]
  },
  {
   "cell_type": "code",
   "execution_count": 29,
   "metadata": {},
   "outputs": [
    {
     "name": "stdout",
     "output_type": "stream",
     "text": [
      "Total Number of examples in train_file: 625\n",
      "Number of enamples of type 'ask_for_recipe_newP_oldV': 302\n",
      "Number of enamples of type 'give_cat-ingredients_newP_oldV': 21\n",
      "Number of enamples of type 'give_ingredients_newP_oldV': 302\n",
      "saved to 'data/dev.iob'\n",
      "Building vocab...\n",
      "- done. 1882 tokens\n",
      "Building vocab...\n",
      "- done. 400000 tokens\n",
      "Writing vocab...\n",
      "- done. 1049 tokens\n",
      "Writing vocab...\n",
      "- done. 9 tokens\n",
      "Writing vocab...\n",
      "- done. 59 tokens\n",
      "/Users/moyang/anaconda3/envs/mars-craters/lib/python3.5/site-packages/tensorflow/python/ops/gradients_impl.py:96: UserWarning: Converting sparse IndexedSlices to a dense Tensor of unknown shape. This may consume a large amount of memory.\n",
      "  \"Converting sparse IndexedSlices to a dense Tensor of unknown shape. \"\n",
      "Initializing tf session\n",
      "2018-02-06 22:34:17.206941: I tensorflow/core/platform/cpu_feature_guard.cc:137] Your CPU supports instructions that this TensorFlow binary was not compiled to use: SSE4.1 SSE4.2 AVX AVX2 FMA\n",
      "Epoch 1 out of 15\n",
      "54/54 [==============================] - 17s - train loss: 3.0060    \n",
      "f1 53.77 - acc 75.45\n",
      "- new best score!\n",
      "Epoch 2 out of 15\n",
      "54/54 [==============================] - 16s - train loss: 0.4208    \n",
      "f1 37.24 - acc 69.51\n",
      "Epoch 3 out of 15\n",
      "54/54 [==============================] - 17s - train loss: 0.1798    \n",
      "f1 34.79 - acc 62.95\n",
      "Epoch 4 out of 15\n",
      "54/54 [==============================] - 19s - train loss: 0.1143    \n",
      "f1 26.86 - acc 59.40\n",
      "- early stopping 3 epochs without improvement\n",
      "/Users/moyang/anaconda3/envs/mars-craters/lib/python3.5/site-packages/tensorflow/python/ops/gradients_impl.py:96: UserWarning: Converting sparse IndexedSlices to a dense Tensor of unknown shape. This may consume a large amount of memory.\n",
      "  \"Converting sparse IndexedSlices to a dense Tensor of unknown shape. \"\n",
      "Initializing tf session\n",
      "2018-02-06 22:35:54.672139: I tensorflow/core/platform/cpu_feature_guard.cc:137] Your CPU supports instructions that this TensorFlow binary was not compiled to use: SSE4.1 SSE4.2 AVX AVX2 FMA\n",
      "Reloading the latest trained model...\n",
      "INFO:tensorflow:Restoring parameters from results/test/model.weights/\n",
      "Restoring parameters from results/test/model.weights/\n",
      "Testing model over test set\n",
      "f1 53.77 - acc 75.45\n"
     ]
    }
   ],
   "source": [
    "save_dev_file_newP_oldV()\n",
    "!python build_data.py\n",
    "!python train.py\n",
    "!python evaluate.py"
   ]
  },
  {
   "cell_type": "markdown",
   "metadata": {},
   "source": [
    "### 2.4 dev on oldPnewV"
   ]
  },
  {
   "cell_type": "code",
   "execution_count": 30,
   "metadata": {},
   "outputs": [
    {
     "name": "stdout",
     "output_type": "stream",
     "text": [
      "Total Number of examples in train_file: 622\n",
      "Number of enamples of type 'ask_for_recipe_oldP_newV': 302\n",
      "Number of enamples of type 'give_cat-ingredients_oldP_newV': 18\n",
      "Number of enamples of type 'give_ingredients_oldP_newV': 302\n",
      "saved to 'data/dev.iob'\n",
      "Building vocab...\n",
      "- done. 1911 tokens\n",
      "Building vocab...\n",
      "- done. 400000 tokens\n",
      "Writing vocab...\n",
      "- done. 1039 tokens\n",
      "Writing vocab...\n",
      "- done. 11 tokens\n",
      "Writing vocab...\n",
      "- done. 59 tokens\n",
      "/Users/moyang/anaconda3/envs/mars-craters/lib/python3.5/site-packages/tensorflow/python/ops/gradients_impl.py:96: UserWarning: Converting sparse IndexedSlices to a dense Tensor of unknown shape. This may consume a large amount of memory.\n",
      "  \"Converting sparse IndexedSlices to a dense Tensor of unknown shape. \"\n",
      "Initializing tf session\n",
      "2018-02-06 22:36:44.283680: I tensorflow/core/platform/cpu_feature_guard.cc:137] Your CPU supports instructions that this TensorFlow binary was not compiled to use: SSE4.1 SSE4.2 AVX AVX2 FMA\n",
      "Epoch 1 out of 15\n",
      "54/54 [==============================] - 15s - train loss: 3.6418    \n",
      "f1 7.20 - acc 54.44\n",
      "- new best score!\n",
      "Epoch 2 out of 15\n",
      "54/54 [==============================] - 15s - train loss: 0.4127    \n",
      "f1 3.43 - acc 47.33\n",
      "Epoch 3 out of 15\n",
      "54/54 [==============================] - 15s - train loss: 0.1905    \n",
      "f1 3.60 - acc 46.57\n",
      "Epoch 4 out of 15\n",
      "54/54 [==============================] - 15s - train loss: 0.1190    \n",
      "f1 3.63 - acc 44.34\n",
      "- early stopping 3 epochs without improvement\n",
      "/Users/moyang/anaconda3/envs/mars-craters/lib/python3.5/site-packages/tensorflow/python/ops/gradients_impl.py:96: UserWarning: Converting sparse IndexedSlices to a dense Tensor of unknown shape. This may consume a large amount of memory.\n",
      "  \"Converting sparse IndexedSlices to a dense Tensor of unknown shape. \"\n",
      "Initializing tf session\n",
      "2018-02-06 22:38:11.123859: I tensorflow/core/platform/cpu_feature_guard.cc:137] Your CPU supports instructions that this TensorFlow binary was not compiled to use: SSE4.1 SSE4.2 AVX AVX2 FMA\n",
      "Reloading the latest trained model...\n",
      "INFO:tensorflow:Restoring parameters from results/test/model.weights/\n",
      "Restoring parameters from results/test/model.weights/\n",
      "Testing model over test set\n",
      "acc 54.44 - f1 7.20\n"
     ]
    }
   ],
   "source": [
    "save_dev_file_oldP_newV()\n",
    "!python build_data.py\n",
    "!python train.py\n",
    "!python evaluate.py"
   ]
  },
  {
   "cell_type": "markdown",
   "metadata": {},
   "source": [
    "### 2.5 dev on 'give_cat-ingredients'"
   ]
  },
  {
   "cell_type": "code",
   "execution_count": 31,
   "metadata": {},
   "outputs": [
    {
     "name": "stdout",
     "output_type": "stream",
     "text": [
      "Total Number of examples in train_file: 45\n",
      "Number of enamples of type 'give_cat-ingredients_newP_newV': 6\n",
      "Number of enamples of type 'give_cat-ingredients_newP_oldV': 21\n",
      "Number of enamples of type 'give_cat-ingredients_oldP_newV': 18\n",
      "Building vocab...\n",
      "- done. 1400 tokens\n",
      "Building vocab...\n",
      "- done. 400000 tokens\n",
      "Writing vocab...\n",
      "- done. 800 tokens\n",
      "Writing vocab...\n",
      "- done. 9 tokens\n",
      "Writing vocab...\n",
      "- done. 59 tokens\n",
      "/Users/moyang/anaconda3/envs/mars-craters/lib/python3.5/site-packages/tensorflow/python/ops/gradients_impl.py:96: UserWarning: Converting sparse IndexedSlices to a dense Tensor of unknown shape. This may consume a large amount of memory.\n",
      "  \"Converting sparse IndexedSlices to a dense Tensor of unknown shape. \"\n",
      "Initializing tf session\n",
      "2018-02-06 22:41:28.529486: I tensorflow/core/platform/cpu_feature_guard.cc:137] Your CPU supports instructions that this TensorFlow binary was not compiled to use: SSE4.1 SSE4.2 AVX AVX2 FMA\n",
      "Epoch 1 out of 15\n",
      "54/54 [==============================] - 17s - train loss: 3.1404    \n",
      "acc 75.43 - f1 0.00\n",
      "- new best score!\n",
      "Epoch 2 out of 15\n",
      "54/54 [==============================] - 17s - train loss: 0.4190    \n",
      "acc 95.43 - f1 82.50\n",
      "- new best score!\n",
      "Epoch 3 out of 15\n",
      "54/54 [==============================] - 16s - train loss: 0.1709    \n",
      "acc 95.43 - f1 89.74\n",
      "- new best score!\n",
      "Epoch 4 out of 15\n",
      "54/54 [==============================] - 15s - train loss: 0.1106    \n",
      "acc 97.71 - f1 89.74\n",
      "- new best score!\n",
      "Epoch 5 out of 15\n",
      "54/54 [==============================] - 16s - train loss: 0.0810    \n",
      "acc 97.71 - f1 89.74\n",
      "- new best score!\n",
      "Epoch 6 out of 15\n",
      "54/54 [==============================] - 17s - train loss: 0.0680    \n",
      "acc 98.29 - f1 92.31\n",
      "- new best score!\n",
      "Epoch 7 out of 15\n",
      "54/54 [==============================] - 16s - train loss: 0.0547    \n",
      "acc 98.29 - f1 92.31\n",
      "- new best score!\n",
      "Epoch 8 out of 15\n",
      "54/54 [==============================] - 15s - train loss: 0.0470    \n",
      "acc 97.71 - f1 89.74\n",
      "Epoch 9 out of 15\n",
      "54/54 [==============================] - 15s - train loss: 0.0619    \n",
      "acc 98.29 - f1 92.31\n",
      "- new best score!\n",
      "Epoch 10 out of 15\n",
      "54/54 [==============================] - 15s - train loss: 0.0388    \n",
      "acc 98.29 - f1 92.31\n",
      "- new best score!\n",
      "Epoch 11 out of 15\n",
      "54/54 [==============================] - 15s - train loss: 0.0285    \n",
      "acc 98.29 - f1 92.31\n",
      "- new best score!\n",
      "Epoch 12 out of 15\n",
      "54/54 [==============================] - 15s - train loss: 0.0269    \n",
      "acc 97.71 - f1 89.74\n",
      "Epoch 13 out of 15\n",
      "54/54 [==============================] - 15s - train loss: 0.0284    \n",
      "acc 98.29 - f1 92.31\n",
      "- new best score!\n",
      "Epoch 14 out of 15\n",
      "54/54 [==============================] - 15s - train loss: 0.0245    \n",
      "acc 98.29 - f1 92.31\n",
      "- new best score!\n",
      "Epoch 15 out of 15\n",
      "54/54 [==============================] - 15s - train loss: 0.0214    \n",
      "acc 98.29 - f1 92.31\n",
      "- new best score!\n",
      "/Users/moyang/anaconda3/envs/mars-craters/lib/python3.5/site-packages/tensorflow/python/ops/gradients_impl.py:96: UserWarning: Converting sparse IndexedSlices to a dense Tensor of unknown shape. This may consume a large amount of memory.\n",
      "  \"Converting sparse IndexedSlices to a dense Tensor of unknown shape. \"\n",
      "Initializing tf session\n",
      "2018-02-06 22:46:11.954977: I tensorflow/core/platform/cpu_feature_guard.cc:137] Your CPU supports instructions that this TensorFlow binary was not compiled to use: SSE4.1 SSE4.2 AVX AVX2 FMA\n",
      "Reloading the latest trained model...\n",
      "INFO:tensorflow:Restoring parameters from results/test/model.weights/\n",
      "Restoring parameters from results/test/model.weights/\n",
      "Testing model over test set\n",
      "f1 92.31 - acc 98.29\n"
     ]
    }
   ],
   "source": [
    "save_dev_file_little()\n",
    "!python build_data.py\n",
    "!python train.py\n",
    "!python evaluate.py"
   ]
  },
  {
   "cell_type": "markdown",
   "metadata": {},
   "source": [
    "## 3. train the model with very large number of examples (10000 examples per file except 'give_cat-ingredients')"
   ]
  },
  {
   "cell_type": "code",
   "execution_count": 36,
   "metadata": {},
   "outputs": [
    {
     "name": "stdout",
     "output_type": "stream",
     "text": [
      "Total Number of examples in train_file: 20078\n",
      "Number of enamples of type 'ask_for_recipe': 10000\n",
      "Number of enamples of type 'give_cat-ingredients': 78\n",
      "Number of enamples of type 'give_ingredients': 10000\n",
      "saved to 'data/train.iob'\n"
     ]
    }
   ],
   "source": [
    "number_per_file_trn = 10000\n",
    "save_train_file(number_per_file_trn)"
   ]
  },
  {
   "cell_type": "markdown",
   "metadata": {},
   "source": [
    "### 3.1 dev on all dev data\n",
    "In this part we train a model and evaluate the model on the whole dev set"
   ]
  },
  {
   "cell_type": "code",
   "execution_count": 37,
   "metadata": {},
   "outputs": [
    {
     "name": "stdout",
     "output_type": "stream",
     "text": [
      "Total Number of examples in train_file: 1857\n",
      "Number of enamples of type 'ask_for_recipe_newP_newV': 302\n",
      "Number of enamples of type 'ask_for_recipe_newP_oldV': 302\n",
      "Number of enamples of type 'ask_for_recipe_oldP_newV': 302\n",
      "Number of enamples of type 'give_cat-ingredients_newP_newV': 6\n",
      "Number of enamples of type 'give_cat-ingredients_newP_oldV': 21\n",
      "Number of enamples of type 'give_cat-ingredients_oldP_newV': 18\n",
      "Number of enamples of type 'give_ingredients_newP_newV': 302\n",
      "Number of enamples of type 'give_ingredients_newP_oldV': 302\n",
      "Number of enamples of type 'give_ingredients_oldP_newV': 302\n",
      "saved to 'data/dev.iob'\n",
      "Building vocab...\n",
      "- done. 6106 tokens\n",
      "Building vocab...\n",
      "- done. 400000 tokens\n",
      "Writing vocab...\n",
      "- done. 3053 tokens\n",
      "Writing vocab...\n",
      "- done. 12 tokens\n",
      "Writing vocab...\n",
      "- done. 72 tokens\n",
      "/Users/moyang/anaconda3/envs/mars-craters/lib/python3.5/site-packages/tensorflow/python/ops/gradients_impl.py:96: UserWarning: Converting sparse IndexedSlices to a dense Tensor of unknown shape. This may consume a large amount of memory.\n",
      "  \"Converting sparse IndexedSlices to a dense Tensor of unknown shape. \"\n",
      "Initializing tf session\n",
      "2018-02-06 23:27:30.423738: I tensorflow/core/platform/cpu_feature_guard.cc:137] Your CPU supports instructions that this TensorFlow binary was not compiled to use: SSE4.1 SSE4.2 AVX AVX2 FMA\n",
      "Epoch 1 out of 15\n",
      "1004/1004 [==============================] - 305s - train loss: 0.3226   \n",
      "f1 22.53 - acc 55.64\n",
      "- new best score!\n",
      "Epoch 2 out of 15\n",
      "1004/1004 [==============================] - 304s - train loss: 0.0198   \n",
      "f1 21.90 - acc 50.58\n",
      "Epoch 3 out of 15\n",
      "1004/1004 [==============================] - 322s - train loss: 0.0128   \n",
      "f1 22.57 - acc 44.60\n",
      "- new best score!\n",
      "Epoch 4 out of 15\n",
      "1004/1004 [==============================] - 314s - train loss: 0.0085   \n",
      "f1 22.24 - acc 46.12\n",
      "Epoch 5 out of 15\n",
      "1004/1004 [==============================] - 311s - train loss: 0.0051   \n",
      "f1 23.80 - acc 43.36\n",
      "- new best score!\n",
      "Epoch 6 out of 15\n",
      "1004/1004 [==============================] - 321s - train loss: 0.0041   \n",
      "f1 23.03 - acc 45.47\n",
      "Epoch 7 out of 15\n",
      " 197/1004 [====>.........................] - ETA: 261s - train loss: 0.0012^C\n",
      "/Users/moyang/anaconda3/envs/mars-craters/lib/python3.5/site-packages/tensorflow/python/ops/gradients_impl.py:96: UserWarning: Converting sparse IndexedSlices to a dense Tensor of unknown shape. This may consume a large amount of memory.\n",
      "  \"Converting sparse IndexedSlices to a dense Tensor of unknown shape. \"\n",
      "Initializing tf session\n",
      "2018-02-07 00:01:11.548309: I tensorflow/core/platform/cpu_feature_guard.cc:137] Your CPU supports instructions that this TensorFlow binary was not compiled to use: SSE4.1 SSE4.2 AVX AVX2 FMA\n",
      "Reloading the latest trained model...\n",
      "INFO:tensorflow:Restoring parameters from results/test/model.weights/\n",
      "Restoring parameters from results/test/model.weights/\n",
      "Testing model over test set\n",
      "f1 23.80 - acc 43.36\n"
     ]
    }
   ],
   "source": [
    "save_dev_file()\n",
    "!python build_data.py\n",
    "!python train.py\n",
    "!python evaluate.py"
   ]
  },
  {
   "cell_type": "markdown",
   "metadata": {},
   "source": [
    "### 3.2 dev on newPnewV\n",
    "in this part we evaluate the model only on newPnewV"
   ]
  },
  {
   "cell_type": "code",
   "execution_count": 38,
   "metadata": {},
   "outputs": [
    {
     "name": "stdout",
     "output_type": "stream",
     "text": [
      "Total Number of examples in train_file: 610\n",
      "Number of enamples of type 'ask_for_recipe_newP_newV': 302\n",
      "Number of enamples of type 'give_cat-ingredients_newP_newV': 6\n",
      "Number of enamples of type 'give_ingredients_newP_newV': 302\n",
      "saved to 'data/dev.iob'\n",
      "Building vocab...\n",
      "- done. 5982 tokens\n",
      "Building vocab...\n",
      "- done. 400000 tokens\n",
      "Writing vocab...\n",
      "- done. 2996 tokens\n",
      "Writing vocab...\n",
      "- done. 12 tokens\n",
      "Writing vocab...\n",
      "- done. 72 tokens\n",
      "/Users/moyang/anaconda3/envs/mars-craters/lib/python3.5/site-packages/tensorflow/python/ops/gradients_impl.py:96: UserWarning: Converting sparse IndexedSlices to a dense Tensor of unknown shape. This may consume a large amount of memory.\n",
      "  \"Converting sparse IndexedSlices to a dense Tensor of unknown shape. \"\n",
      "Initializing tf session\n",
      "2018-02-07 00:02:11.900728: I tensorflow/core/platform/cpu_feature_guard.cc:137] Your CPU supports instructions that this TensorFlow binary was not compiled to use: SSE4.1 SSE4.2 AVX AVX2 FMA\n",
      "Epoch 1 out of 15\n",
      "1004/1004 [==============================] - 321s - train loss: 0.2978   \n",
      "f1 0.13 - acc 44.93\n",
      "- new best score!\n",
      "Epoch 2 out of 15\n",
      "1004/1004 [==============================] - 319s - train loss: 0.0186   \n",
      "f1 0.39 - acc 44.48\n",
      "- new best score!\n",
      "Epoch 3 out of 15\n",
      "1004/1004 [==============================] - 311s - train loss: 0.0120   \n",
      "f1 0.52 - acc 40.13\n",
      "- new best score!\n",
      "Epoch 4 out of 15\n",
      "1004/1004 [==============================] - 295s - train loss: 0.0095   \n",
      "f1 0.49 - acc 34.44\n",
      "Epoch 5 out of 15\n",
      "1004/1004 [==============================] - 302s - train loss: 0.0057   \n",
      "f1 0.53 - acc 37.24\n",
      "- new best score!\n",
      "Epoch 6 out of 15\n",
      "1004/1004 [==============================] - 319s - train loss: 0.0032   \n",
      "f1 0.53 - acc 42.29\n",
      "- new best score!\n",
      "Epoch 7 out of 15\n",
      "1004/1004 [==============================] - 320s - train loss: 0.0040   \n",
      "f1 0.00 - acc 32.32\n",
      "Epoch 8 out of 15\n",
      "1004/1004 [==============================] - 319s - train loss: 0.0016   \n",
      "f1 0.00 - acc 31.64\n",
      "Epoch 9 out of 15\n",
      "1004/1004 [==============================] - 318s - train loss: 0.0015   \n",
      "f1 0.14 - acc 34.55\n",
      "- early stopping 3 epochs without improvement\n",
      "/Users/moyang/anaconda3/envs/mars-craters/lib/python3.5/site-packages/tensorflow/python/ops/gradients_impl.py:96: UserWarning: Converting sparse IndexedSlices to a dense Tensor of unknown shape. This may consume a large amount of memory.\n",
      "  \"Converting sparse IndexedSlices to a dense Tensor of unknown shape. \"\n",
      "Initializing tf session\n",
      "2018-02-07 00:50:12.936507: I tensorflow/core/platform/cpu_feature_guard.cc:137] Your CPU supports instructions that this TensorFlow binary was not compiled to use: SSE4.1 SSE4.2 AVX AVX2 FMA\n",
      "Reloading the latest trained model...\n",
      "INFO:tensorflow:Restoring parameters from results/test/model.weights/\n",
      "Restoring parameters from results/test/model.weights/\n",
      "Testing model over test set\n",
      "acc 42.29 - f1 0.53\n"
     ]
    }
   ],
   "source": [
    "save_dev_file_newP_newV()\n",
    "!python build_data.py\n",
    "!python train.py\n",
    "!python evaluate.py"
   ]
  },
  {
   "cell_type": "markdown",
   "metadata": {},
   "source": [
    "### 3.3 dev on newPoldV"
   ]
  },
  {
   "cell_type": "code",
   "execution_count": 39,
   "metadata": {},
   "outputs": [
    {
     "name": "stdout",
     "output_type": "stream",
     "text": [
      "Total Number of examples in train_file: 625\n",
      "Number of enamples of type 'ask_for_recipe_newP_oldV': 302\n",
      "Number of enamples of type 'give_cat-ingredients_newP_oldV': 21\n",
      "Number of enamples of type 'give_ingredients_newP_oldV': 302\n",
      "saved to 'data/dev.iob'\n",
      "Building vocab...\n",
      "- done. 5727 tokens\n",
      "Building vocab...\n",
      "- done. 400000 tokens\n",
      "Writing vocab...\n",
      "- done. 2908 tokens\n",
      "Writing vocab...\n",
      "- done. 11 tokens\n",
      "Writing vocab...\n",
      "- done. 72 tokens\n",
      "/Users/moyang/anaconda3/envs/mars-craters/lib/python3.5/site-packages/tensorflow/python/ops/gradients_impl.py:96: UserWarning: Converting sparse IndexedSlices to a dense Tensor of unknown shape. This may consume a large amount of memory.\n",
      "  \"Converting sparse IndexedSlices to a dense Tensor of unknown shape. \"\n",
      "Initializing tf session\n",
      "2018-02-07 00:51:09.349776: I tensorflow/core/platform/cpu_feature_guard.cc:137] Your CPU supports instructions that this TensorFlow binary was not compiled to use: SSE4.1 SSE4.2 AVX AVX2 FMA\n",
      "Epoch 1 out of 15\n",
      "1004/1004 [==============================] - 316s - train loss: 0.3482   \n",
      "f1 2.22 - acc 46.55\n",
      "- new best score!\n",
      "Epoch 2 out of 15\n",
      "1004/1004 [==============================] - 315s - train loss: 0.0221   \n",
      "f1 2.12 - acc 45.71\n",
      "Epoch 3 out of 15\n",
      "1004/1004 [==============================] - 319s - train loss: 0.0130   \n",
      "f1 0.00 - acc 38.20\n",
      "Epoch 4 out of 15\n",
      "1004/1004 [==============================] - 322s - train loss: 0.0082   \n",
      "f1 0.00 - acc 33.71\n",
      "- early stopping 3 epochs without improvement\n",
      "/Users/moyang/anaconda3/envs/mars-craters/lib/python3.5/site-packages/tensorflow/python/ops/gradients_impl.py:96: UserWarning: Converting sparse IndexedSlices to a dense Tensor of unknown shape. This may consume a large amount of memory.\n",
      "  \"Converting sparse IndexedSlices to a dense Tensor of unknown shape. \"\n",
      "Initializing tf session\n",
      "2018-02-07 01:12:53.628388: I tensorflow/core/platform/cpu_feature_guard.cc:137] Your CPU supports instructions that this TensorFlow binary was not compiled to use: SSE4.1 SSE4.2 AVX AVX2 FMA\n",
      "Reloading the latest trained model...\n",
      "INFO:tensorflow:Restoring parameters from results/test/model.weights/\n",
      "Restoring parameters from results/test/model.weights/\n",
      "Testing model over test set\n",
      "f1 2.22 - acc 46.55\n"
     ]
    }
   ],
   "source": [
    "save_dev_file_newP_oldV()\n",
    "!python build_data.py\n",
    "!python train.py\n",
    "!python evaluate.py"
   ]
  },
  {
   "cell_type": "markdown",
   "metadata": {},
   "source": [
    "### 3.4 dev on newPoldV"
   ]
  },
  {
   "cell_type": "code",
   "execution_count": 40,
   "metadata": {},
   "outputs": [
    {
     "name": "stdout",
     "output_type": "stream",
     "text": [
      "Total Number of examples in train_file: 622\n",
      "Number of enamples of type 'ask_for_recipe_oldP_newV': 302\n",
      "Number of enamples of type 'give_cat-ingredients_oldP_newV': 18\n",
      "Number of enamples of type 'give_ingredients_oldP_newV': 302\n",
      "saved to 'data/dev.iob'\n",
      "Building vocab...\n",
      "- done. 5961 tokens\n",
      "Building vocab...\n",
      "- done. 400000 tokens\n",
      "Writing vocab...\n",
      "- done. 2990 tokens\n",
      "Writing vocab...\n",
      "- done. 11 tokens\n",
      "Writing vocab...\n",
      "- done. 72 tokens\n",
      "/Users/moyang/anaconda3/envs/mars-craters/lib/python3.5/site-packages/tensorflow/python/ops/gradients_impl.py:96: UserWarning: Converting sparse IndexedSlices to a dense Tensor of unknown shape. This may consume a large amount of memory.\n",
      "  \"Converting sparse IndexedSlices to a dense Tensor of unknown shape. \"\n",
      "Initializing tf session\n",
      "2018-02-07 01:13:52.565810: I tensorflow/core/platform/cpu_feature_guard.cc:137] Your CPU supports instructions that this TensorFlow binary was not compiled to use: SSE4.1 SSE4.2 AVX AVX2 FMA\n",
      "Epoch 1 out of 15\n",
      "1004/1004 [==============================] - 323s - train loss: 0.3124   \n",
      "f1 54.41 - acc 69.42\n",
      "- new best score!\n",
      "Epoch 2 out of 15\n",
      "1004/1004 [==============================] - 314s - train loss: 0.0184   \n",
      "f1 61.31 - acc 61.36\n",
      "- new best score!\n",
      "Epoch 3 out of 15\n",
      "1004/1004 [==============================] - 324s - train loss: 0.0129   \n",
      "f1 54.72 - acc 64.83\n",
      "Epoch 4 out of 15\n",
      "1004/1004 [==============================] - 314s - train loss: 0.0086   \n",
      "f1 55.25 - acc 58.87\n",
      "Epoch 5 out of 15\n",
      "1004/1004 [==============================] - 334s - train loss: 0.0061   \n",
      "f1 57.56 - acc 56.38\n",
      "- early stopping 3 epochs without improvement\n",
      "/Users/moyang/anaconda3/envs/mars-craters/lib/python3.5/site-packages/tensorflow/python/ops/gradients_impl.py:96: UserWarning: Converting sparse IndexedSlices to a dense Tensor of unknown shape. This may consume a large amount of memory.\n",
      "  \"Converting sparse IndexedSlices to a dense Tensor of unknown shape. \"\n",
      "Initializing tf session\n",
      "2018-02-07 01:41:19.456774: I tensorflow/core/platform/cpu_feature_guard.cc:137] Your CPU supports instructions that this TensorFlow binary was not compiled to use: SSE4.1 SSE4.2 AVX AVX2 FMA\n",
      "Reloading the latest trained model...\n",
      "INFO:tensorflow:Restoring parameters from results/test/model.weights/\n",
      "Restoring parameters from results/test/model.weights/\n",
      "Testing model over test set\n",
      "acc 61.36 - f1 61.31\n"
     ]
    }
   ],
   "source": [
    "save_dev_file_oldP_newV()\n",
    "!python build_data.py\n",
    "!python train.py\n",
    "!python evaluate.py"
   ]
  },
  {
   "cell_type": "markdown",
   "metadata": {},
   "source": [
    "### 3.5 dev on 'give_cat-ingredients'"
   ]
  },
  {
   "cell_type": "code",
   "execution_count": 41,
   "metadata": {},
   "outputs": [
    {
     "name": "stdout",
     "output_type": "stream",
     "text": [
      "Total Number of examples in train_file: 45\n",
      "Number of enamples of type 'give_cat-ingredients_newP_newV': 6\n",
      "Number of enamples of type 'give_cat-ingredients_newP_oldV': 21\n",
      "Number of enamples of type 'give_cat-ingredients_oldP_newV': 18\n",
      "Building vocab...\n",
      "- done. 5673 tokens\n",
      "Building vocab...\n",
      "- done. 400000 tokens\n",
      "Writing vocab...\n",
      "- done. 2879 tokens\n",
      "Writing vocab...\n",
      "- done. 11 tokens\n",
      "Writing vocab...\n",
      "- done. 72 tokens\n",
      "/Users/moyang/anaconda3/envs/mars-craters/lib/python3.5/site-packages/tensorflow/python/ops/gradients_impl.py:96: UserWarning: Converting sparse IndexedSlices to a dense Tensor of unknown shape. This may consume a large amount of memory.\n",
      "  \"Converting sparse IndexedSlices to a dense Tensor of unknown shape. \"\n",
      "Initializing tf session\n",
      "2018-02-07 01:42:22.500117: I tensorflow/core/platform/cpu_feature_guard.cc:137] Your CPU supports instructions that this TensorFlow binary was not compiled to use: SSE4.1 SSE4.2 AVX AVX2 FMA\n",
      "Epoch 1 out of 15\n",
      "1004/1004 [==============================] - 340s - train loss: 0.3107   \n",
      "acc 65.71 - f1 30.77\n",
      "- new best score!\n",
      "Epoch 2 out of 15\n",
      " 237/1004 [======>.......................] - ETA: 254s - train loss: 0.0263^C\n",
      "Traceback (most recent call last):\n",
      "  File \"train.py\", line 26, in <module>\n",
      "    main()\n",
      "  File \"train.py\", line 23, in main\n",
      "    model.train(train, dev)\n",
      "  File \"/Users/moyang/projects/dialogue_system_real/sequence_tagging-master/model/base_model.py\", line 121, in train\n",
      "    score = self.run_epoch(train, dev, epoch)\n",
      "  File \"/Users/moyang/projects/dialogue_system_real/sequence_tagging-master/model/ner_model.py\", line 287, in run_epoch\n",
      "    [self.train_op, self.loss, self.merged], feed_dict=fd)\n",
      "  File \"/Users/moyang/anaconda3/envs/mars-craters/lib/python3.5/site-packages/tensorflow/python/client/session.py\", line 889, in run\n",
      "    run_metadata_ptr)\n",
      "  File \"/Users/moyang/anaconda3/envs/mars-craters/lib/python3.5/site-packages/tensorflow/python/client/session.py\", line 1120, in _run\n",
      "    feed_dict_tensor, options, run_metadata)\n",
      "  File \"/Users/moyang/anaconda3/envs/mars-craters/lib/python3.5/site-packages/tensorflow/python/client/session.py\", line 1317, in _do_run\n",
      "    options, run_metadata)\n",
      "  File \"/Users/moyang/anaconda3/envs/mars-craters/lib/python3.5/site-packages/tensorflow/python/client/session.py\", line 1323, in _do_call\n",
      "    return fn(*args)\n",
      "  File \"/Users/moyang/anaconda3/envs/mars-craters/lib/python3.5/site-packages/tensorflow/python/client/session.py\", line 1302, in _run_fn\n",
      "    status, run_metadata)\n",
      "KeyboardInterrupt\n",
      "/Users/moyang/anaconda3/envs/mars-craters/lib/python3.5/site-packages/tensorflow/python/ops/gradients_impl.py:96: UserWarning: Converting sparse IndexedSlices to a dense Tensor of unknown shape. This may consume a large amount of memory.\n",
      "  \"Converting sparse IndexedSlices to a dense Tensor of unknown shape. \"\n",
      "Initializing tf session\n",
      "2018-02-07 01:49:39.728666: I tensorflow/core/platform/cpu_feature_guard.cc:137] Your CPU supports instructions that this TensorFlow binary was not compiled to use: SSE4.1 SSE4.2 AVX AVX2 FMA\n",
      "Reloading the latest trained model...\n",
      "INFO:tensorflow:Restoring parameters from results/test/model.weights/\n",
      "Restoring parameters from results/test/model.weights/\n",
      "Testing model over test set\n",
      "acc 65.71 - f1 30.77\n"
     ]
    }
   ],
   "source": [
    "save_dev_file_little()\n",
    "!python build_data.py\n",
    "!python train.py\n",
    "!python evaluate.py"
   ]
  },
  {
   "cell_type": "code",
   "execution_count": null,
   "metadata": {},
   "outputs": [],
   "source": []
  }
 ],
 "metadata": {
  "kernelspec": {
   "display_name": "Python 3",
   "language": "python",
   "name": "python3"
  },
  "language_info": {
   "codemirror_mode": {
    "name": "ipython",
    "version": 3
   },
   "file_extension": ".py",
   "mimetype": "text/x-python",
   "name": "python",
   "nbconvert_exporter": "python",
   "pygments_lexer": "ipython3",
   "version": "3.5.2"
  }
 },
 "nbformat": 4,
 "nbformat_minor": 2
}
